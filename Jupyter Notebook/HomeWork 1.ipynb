{
  "metadata": {
    "language_info": {
      "codemirror_mode": {
        "name": "python",
        "version": 3
      },
      "file_extension": ".py",
      "mimetype": "text/x-python",
      "name": "python",
      "nbconvert_exporter": "python",
      "pygments_lexer": "ipython3",
      "version": "3.8"
    },
    "kernelspec": {
      "name": "python",
      "display_name": "Python (Pyodide)",
      "language": "python"
    }
  },
  "nbformat_minor": 4,
  "nbformat": 4,
  "cells": [
    {
      "cell_type": "markdown",
      "source": "# Домашняя работа №1",
      "metadata": {}
    },
    {
      "cell_type": "markdown",
      "source": "## Задача №1",
      "metadata": {}
    },
    {
      "cell_type": "markdown",
      "source": "Оформляйте ноутбук, используя эти советы:\nНомер задачи - заголовок 2\nНомер подзадачи - заголовок 3\nПредоставленные наборы данных оформляйте, как код\nРекомендации для преподавателей по оценке задания:\nСмотреть, чтобы студент красиво оформлял ноутбук, использовал ячейки с текстом, указывал номера заданий",
      "metadata": {}
    },
    {
      "cell_type": "markdown",
      "source": "## Задача №2",
      "metadata": {}
    },
    {
      "cell_type": "markdown",
      "source": "На складе лежат разные фрукты в разном количестве.\nНужно написать функцию, которая на вход принимает любое количество названий фруктов и их количество, а возвращает общее количество фруктов на складе",
      "metadata": {}
    },
    {
      "cell_type": "code",
      "source": "fruits_data = {'banana': 2, 'mango': 3, 'apple': 8}",
      "metadata": {
        "trusted": true
      },
      "execution_count": 7,
      "outputs": []
    },
    {
      "cell_type": "code",
      "source": "total = 0\n \nfor item in fruits_data:\n       total += 1\ntotal",
      "metadata": {
        "trusted": true
      },
      "execution_count": 8,
      "outputs": [
        {
          "execution_count": 8,
          "output_type": "execute_result",
          "data": {
            "text/plain": "3"
          },
          "metadata": {}
        }
      ]
    },
    {
      "cell_type": "markdown",
      "source": "## Задача №3",
      "metadata": {}
    },
    {
      "cell_type": "markdown",
      "source": "Дан список с затратами на рекламу. Но в данных есть ошибки, некоторые затраты имеют отрицательную величину. Удалите такие значения из списка и посчитайте суммарные затраты\n[100, 125, -90, 345, 655, -1, 0, 200]\nИспользуйте list comprehensions",
      "metadata": {}
    },
    {
      "cell_type": "code",
      "source": "array = [100, 125, -90, 345, 655, -1, 0, 200]\nprint(sum(a for a in array if a > 0))",
      "metadata": {
        "trusted": true
      },
      "execution_count": 9,
      "outputs": [
        {
          "name": "stdout",
          "text": "1425\n",
          "output_type": "stream"
        }
      ]
    },
    {
      "cell_type": "markdown",
      "source": "## Задача 4",
      "metadata": {}
    },
    {
      "cell_type": "markdown",
      "source": "Даны два списка.\nДата покупки\n['2021-09-14', '2021-12-15', '2021-09-08', '2021-12-05', '2021-10-09', '2021-09-30', '2021-12-22', '2021-11-29', '2021-12-24', '2021-11-26', '2021-10-27', '2021-12-18', '2021-11-09', '2021-11-23', '2021-09-27', '2021-10-02', '2021-12-27', '2021-09-20', '2021-12-13', '2021-11-01', '2021-11-09', '2021-12-06', '2021-12-08', '2021-10-09', '2021-10-31', '2021-09-30', '2021-11-09', '2021-12-13', '2021-10-26', '2021-12-09']\nСуммы покупок по датам\n[1270, 8413, 9028, 3703, 5739, 4095, 295, 4944, 5723, 3701, 4471, 651, 7037, 4274, 6275, 4988, 6930, 2971, 6592, 2004, 2822, 519, 3406, 2732, 5015, 2008, 316, 6333, 5700, 2887]",
      "metadata": {}
    },
    {
      "cell_type": "code",
      "source": "date = ['2021-09-14', '2021-12-15', '2021-09-08', '2021-12-05', '2021-10-09', '2021-09-30', '2021-12-22', '2021-11-29', '2021-12-24', '2021-11-26', '2021-10-27', '2021-12-18', '2021-11-09', '2021-11-23', '2021-09-27', '2021-10-02', '2021-12-27', '2021-09-20', '2021-12-13', '2021-11-01', '2021-11-09', '2021-12-06', '2021-12-08', '2021-10-09', '2021-10-31', '2021-09-30', '2021-11-09', '2021-12-13', '2021-10-26', '2021-12-09']",
      "metadata": {
        "trusted": true
      },
      "execution_count": 16,
      "outputs": []
    },
    {
      "cell_type": "code",
      "source": "money = [1270, 8413, 9028, 3703, 5739, 4095, 295, 4944, 5723, 3701, 4471, 651, 7037, 4274, 6275, 4988, 6930, 2971, 6592, 2004, 2822, 519, 3406, 2732, 5015, 2008, 316, 6333, 5700, 2887]",
      "metadata": {
        "trusted": true
      },
      "execution_count": 17,
      "outputs": []
    },
    {
      "cell_type": "markdown",
      "source": "## Задача №4.1",
      "metadata": {}
    },
    {
      "cell_type": "markdown",
      "source": "Найдите, какая выручка у компании в ноябре\nИспользуйте list comprehensions",
      "metadata": {}
    },
    {
      "cell_type": "code",
      "source": "print(sum([m for d, m in zip(date, money) if d[5:7] == \"11\"]))",
      "metadata": {
        "trusted": true
      },
      "execution_count": 18,
      "outputs": [
        {
          "name": "stdout",
          "text": "25098\n",
          "output_type": "stream"
        }
      ]
    },
    {
      "cell_type": "markdown",
      "source": "## Задача №4.2",
      "metadata": {}
    },
    {
      "cell_type": "markdown",
      "source": "Найдите выручку компании в зависимости от месяца\nДля этого напишите функцию, которая на вход принимает список с датами и список с выручкой, а на выходе словарь, где ключи - это месяцы, а значения - это выручка.\nИспользуйте аннотирование типов.",
      "metadata": {}
    },
    {
      "cell_type": "code",
      "source": "def sum_in_month(date: list, money: list) -> dict:\n    res = {}\n    for d, m in zip(date, money):\n        if d[5:7] in res.keys():\n            res[d[5:7]] = res[d[5:7]] + m\n        else:\n            res[d[5:7]] = m\n    return res\n \nprint(sum_in_month(date, money))",
      "metadata": {
        "trusted": true
      },
      "execution_count": 19,
      "outputs": [
        {
          "name": "stdout",
          "text": "{'09': 25647, '12': 45452, '10': 28645, '11': 25098}\n",
          "output_type": "stream"
        }
      ]
    }
  ]
}